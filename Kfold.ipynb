{
 "cells": [
  {
   "cell_type": "code",
   "execution_count": 1,
   "metadata": {},
   "outputs": [],
   "source": [
    "import os\n",
    "import sys\n",
    "import glob\n",
    "import pathlib\n",
    "import yaml\n",
    "import numpy as np\n",
    "import pandas as pd\n",
    "import torch\n",
    "import torch.nn as nn\n",
    "import torchvision\n",
    "import argparse\n",
    "from sklearn.model_selection import KFold, train_test_split\n",
    "from torchvision import transforms\n",
    "from torchvision.models.resnet import resnet18\n",
    "from dataloader import MedicalData\n",
    "from trainer import Trainer\n",
    "from datetime import datetime\n",
    "from utils import *"
   ]
  },
  {
   "cell_type": "code",
   "execution_count": 2,
   "metadata": {},
   "outputs": [],
   "source": [
    "cfg_path = './config/config.yml'\n",
    "cfg = load_config(cfg_path)"
   ]
  },
  {
   "cell_type": "code",
   "execution_count": 3,
   "metadata": {},
   "outputs": [],
   "source": [
    "df = load_data(cfg[\"datasets\"][\"root\"])\n",
    "df = df.sample(frac=1, random_state=42).reset_index(drop=True)"
   ]
  },
  {
   "cell_type": "code",
   "execution_count": 4,
   "metadata": {},
   "outputs": [],
   "source": [
    "cfg['trainer']['epochs'] = 10\n"
   ]
  },
  {
   "cell_type": "code",
   "execution_count": 5,
   "metadata": {},
   "outputs": [],
   "source": [
    "device = check_gpu(cfg['use_gpu'])"
   ]
  },
  {
   "cell_type": "code",
   "execution_count": 6,
   "metadata": {},
   "outputs": [],
   "source": [
    "model_dir, visual_dir = create_folder()"
   ]
  },
  {
   "cell_type": "code",
   "execution_count": 7,
   "metadata": {},
   "outputs": [],
   "source": [
    "def setup_dataflow(train_idx, val_idx):\n",
    "    root = cfg['datasets']['root']\n",
    "    width = cfg['datasets']['image_width']\n",
    "    height = cfg['datasets']['image_height']\n",
    "    batch_size = cfg['datasets']['batch_size']\n",
    "    classes = pd.read_csv('./class.csv')\n",
    "    \n",
    "    \n",
    "    transform_train = transforms.Compose([\n",
    "        transforms.RandomRotation(30),\n",
    "        transforms.GaussianBlur(3),\n",
    "        transforms.RandomHorizontalFlip(0.3),\n",
    "        transforms.Resize((height, width)),\n",
    "        transforms.ToTensor(),\n",
    "        transforms.Normalize([0.4802, 0.4481, 0.3975], [0.2302, 0.2265, 0.2262]),\n",
    "        transforms.RandomErasing()\n",
    "    ])\n",
    "    \n",
    "    transform_valid = transforms.Compose([\n",
    "        transforms.Resize((height, width)),\n",
    "        transforms.ToTensor(),\n",
    "        transforms.Normalize([0.4802, 0.4481, 0.3975], [0.2302, 0.2265, 0.2262])\n",
    "    ])\n",
    "    train_sampler = MedicalData(root, train_idx, classes, device, transform_valid)\n",
    "    val_sampler = MedicalData(root, val_idx, classes, device, transform_valid)\n",
    "\n",
    "    train_loader = torch.utils.data.DataLoader(train_sampler, batch_size=batch_size)\n",
    "    val_loader = torch.utils.data.DataLoader(val_sampler, batch_size=batch_size)\n",
    "\n",
    "    return train_loader, val_loader"
   ]
  },
  {
   "cell_type": "code",
   "execution_count": 8,
   "metadata": {},
   "outputs": [],
   "source": [
    "n_splits = 5\n",
    "kfold = KFold(n_splits, shuffle=True, random_state=42)"
   ]
  },
  {
   "cell_type": "code",
   "execution_count": null,
   "metadata": {},
   "outputs": [],
   "source": [
    "for i, (train_idx, valid_idx) in enumerate(kfold.split(df)):\n",
    "    print('===' * 10 + \"{}\".format(i+1) + \"===\" * 10)\n",
    "    df_train = df.iloc[train_idx]\n",
    "    df_valid = df.iloc[valid_idx]\n",
    "    train_loader, valid_loader = setup_dataflow(df_train, df_valid)\n",
    "    test_loader = None\n",
    "    model = resnet18()\n",
    "    model.fc = nn.Linear(512, cfg['model']['num_classes'])\n",
    "    trainer = Trainer(model=model, \n",
    "                        config=cfg,\n",
    "                        train_loader=train_loader,\n",
    "                        valid_loader=valid_loader,\n",
    "                        test_loader=test_loader,\n",
    "                        device=device)\n",
    "\n",
    "    trainer.train(kfold=i+1, save_dir=model_dir)\n",
    "    trainer.visualize(visual_dir, i+1)"
   ]
  },
  {
   "cell_type": "code",
   "execution_count": 19,
   "metadata": {},
   "outputs": [],
   "source": [
    "cfg_copy = cfg\n",
    "cfg_copy['trainer']['epochs'] = 1\n",
    "cfg_copy['trainer']['print_every'] = 1\n",
    "cfg_copy['trainer']['lr'] = 1e-4"
   ]
  },
  {
   "cell_type": "code",
   "execution_count": 20,
   "metadata": {},
   "outputs": [
    {
     "name": "stdout",
     "output_type": "stream",
     "text": [
      "EPOCH: 1/1\n"
     ]
    },
    {
     "name": "stderr",
     "output_type": "stream",
     "text": [
      "loss: 1.1280405521392822: 100%|███████████████████████████████████| 469/469 [01:35<00:00,  4.92it/s]\n",
      "100%|█████████████████████████████████████████████████████████████| 118/118 [00:16<00:00,  7.29it/s]\n"
     ]
    },
    {
     "name": "stdout",
     "output_type": "stream",
     "text": [
      "              precision    recall  f1-score   support\n",
      "\n",
      "      ASC_US       0.50      0.55      0.53       682\n",
      "        LSIL       0.54      0.51      0.53       835\n",
      "         SCC       0.63      0.78      0.70       373\n",
      "        HSIL       0.58      0.56      0.57       972\n",
      "       ASC_H       0.49      0.50      0.49       760\n",
      "         AIS       0.67      0.11      0.19       128\n",
      "\n",
      "    accuracy                           0.54      3750\n",
      "   macro avg       0.57      0.50      0.50      3750\n",
      "weighted avg       0.55      0.54      0.54      3750\n",
      "\n",
      "Avg loss: 1.0773418567328057\n",
      "metrics: {'loss': 1.0428050847457624, 'accuracy': 0.543771186440678, 'f1_scores': 0.543771186440678, 'precision': 0.47533898305084743, 'mAP': 0.4856271186440677, 'recall': 0.4918389830508474}\n",
      "Confusion Matrix:\n",
      " tensor([[377., 217.,   6.,  30.,  52.,   0.],\n",
      "        [273., 429.,  17.,  32.,  84.,   0.],\n",
      "        [ 20.,   8., 290.,  44.,  10.,   1.],\n",
      "        [ 36.,  58.,  80., 548., 246.,   4.],\n",
      "        [ 46.,  80.,  32., 222., 378.,   2.],\n",
      "        [  1.,   0.,  33.,  75.,   5.,  14.]], device='cuda:0')\n",
      "Saved!\n"
     ]
    }
   ],
   "source": [
    "model.load_state_dict(torch.load('./save/save_2023-06-14 10:56:24.952644/model_fold5_epoch4.pt'))\n",
    "df_train = df.iloc[train_idx]\n",
    "df_valid = df.iloc[valid_idx]\n",
    "train_loader, valid_loader = setup_dataflow(df_train, df_valid)\n",
    "test_loader = None\n",
    "trainer = Trainer(model=model, \n",
    "                    config=cfg_copy,\n",
    "                    train_loader=train_loader,\n",
    "                    valid_loader=valid_loader,\n",
    "                    test_loader=test_loader,\n",
    "                    device=device)\n",
    "\n",
    "trainer.train(kfold=i+1, save_dir=model_dir)"
   ]
  },
  {
   "cell_type": "code",
   "execution_count": 21,
   "metadata": {},
   "outputs": [],
   "source": [
    "df_train.to_csv('./data/train.csv')\n",
    "df_valid.to_csv('./data/valid.csv')"
   ]
  },
  {
   "cell_type": "code",
   "execution_count": null,
   "metadata": {},
   "outputs": [],
   "source": []
  }
 ],
 "metadata": {
  "kernelspec": {
   "display_name": "medical_env",
   "language": "python",
   "name": "python3"
  },
  "language_info": {
   "codemirror_mode": {
    "name": "ipython",
    "version": 3
   },
   "file_extension": ".py",
   "mimetype": "text/x-python",
   "name": "python",
   "nbconvert_exporter": "python",
   "pygments_lexer": "ipython3",
   "version": "3.10.11"
  },
  "orig_nbformat": 4
 },
 "nbformat": 4,
 "nbformat_minor": 2
}
